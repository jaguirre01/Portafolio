{
 "cells": [
  {
   "cell_type": "markdown",
   "metadata": {},
   "source": [
    "# PRIMER PROYECTO DEL BOOTCAM MACHINE LEARNING"
   ]
  },
  {
   "cell_type": "markdown",
   "metadata": {},
   "source": [
    "## 1. Elección del conjunto de datos"
   ]
  },
  {
   "cell_type": "code",
   "execution_count": 37,
   "metadata": {
    "scrolled": true
   },
   "outputs": [],
   "source": [
    "#importando librerias de trabajo. \n",
    "import requests\n",
    "import pandas as pd\n",
    "from bs4 import BeautifulSoup\n",
    "import matplotlib.pyplot as plt\n",
    "import seaborn as sns\n",
    "import streamlit as st"
   ]
  },
  {
   "cell_type": "code",
   "execution_count": 38,
   "metadata": {},
   "outputs": [
    {
     "name": "stderr",
     "output_type": "stream",
     "text": [
      "C:\\Users\\User\\AppData\\Local\\Temp\\ipykernel_10220\\2570379830.py:15: FutureWarning: Passing literal html to 'read_html' is deprecated and will be removed in a future version. To read from a literal string, wrap it in a 'StringIO' object.\n",
      "  dfDataDepMun = pd.read_html(str(table))[0]\n"
     ]
    },
    {
     "data": {
      "text/html": [
       "<div>\n",
       "<style scoped>\n",
       "    .dataframe tbody tr th:only-of-type {\n",
       "        vertical-align: middle;\n",
       "    }\n",
       "\n",
       "    .dataframe tbody tr th {\n",
       "        vertical-align: top;\n",
       "    }\n",
       "\n",
       "    .dataframe thead th {\n",
       "        text-align: right;\n",
       "    }\n",
       "</style>\n",
       "<table border=\"1\" class=\"dataframe\">\n",
       "  <thead>\n",
       "    <tr style=\"text-align: right;\">\n",
       "      <th></th>\n",
       "      <th>Municipalidad</th>\n",
       "      <th>HASC</th>\n",
       "      <th>Departamento</th>\n",
       "      <th>Capital</th>\n",
       "      <th>Área (km²)</th>\n",
       "      <th>Población</th>\n",
       "      <th>Densidad (pers/km²)</th>\n",
       "    </tr>\n",
       "  </thead>\n",
       "  <tbody>\n",
       "    <tr>\n",
       "      <th>0</th>\n",
       "      <td>Acajutla</td>\n",
       "      <td>SO-AC</td>\n",
       "      <td>Sonsonate</td>\n",
       "      <td>Acajutla</td>\n",
       "      <td>1666</td>\n",
       "      <td>58 846,0</td>\n",
       "      <td>3532</td>\n",
       "    </tr>\n",
       "    <tr>\n",
       "      <th>1</th>\n",
       "      <td>Agua Caliente</td>\n",
       "      <td>CH-AC</td>\n",
       "      <td>Chalatenango</td>\n",
       "      <td>Agua Caliente</td>\n",
       "      <td>1957</td>\n",
       "      <td>8 726,0</td>\n",
       "      <td>446</td>\n",
       "    </tr>\n",
       "    <tr>\n",
       "      <th>2</th>\n",
       "      <td>Aguilares</td>\n",
       "      <td>SS-AG</td>\n",
       "      <td>San Salvador</td>\n",
       "      <td>Aguilares</td>\n",
       "      <td>337</td>\n",
       "      <td>24 406,0</td>\n",
       "      <td>7238</td>\n",
       "    </tr>\n",
       "  </tbody>\n",
       "</table>\n",
       "</div>"
      ],
      "text/plain": [
       "   Municipalidad   HASC  Departamento        Capital Área (km²) Población  \\\n",
       "0       Acajutla  SO-AC     Sonsonate       Acajutla       1666  58 846,0   \n",
       "1  Agua Caliente  CH-AC  Chalatenango  Agua Caliente       1957   8 726,0   \n",
       "2      Aguilares  SS-AG  San Salvador      Aguilares        337  24 406,0   \n",
       "\n",
       "  Densidad (pers/km²)  \n",
       "0                3532  \n",
       "1                 446  \n",
       "2                7238  "
      ]
     },
     "execution_count": 38,
     "metadata": {},
     "output_type": "execute_result"
    }
   ],
   "source": [
    "# URL de mi fuente de datos\n",
    "url = 'http://www.geo-ref.net/sp/slv.htm'\n",
    "\n",
    "# Realizar la solicitud \n",
    "response = requests.get(url)\n",
    "response.raise_for_status() \n",
    "\n",
    "# Lee el contenido HTML\n",
    "soup = BeautifulSoup(response.content, 'html.parser')\n",
    "\n",
    "# Declaro el nombre de la tabla \n",
    "table = soup.select_one('DIV:nth-child(4) > TABLE.tabelle.sortierbar')\n",
    "\n",
    "# Leo la tabla usando pandas\n",
    "dfDataDepMun = pd.read_html(str(table))[0]\n",
    "\n",
    "dfDataDepMun.head(3)"
   ]
  },
  {
   "cell_type": "markdown",
   "metadata": {},
   "source": [
    "# 2. Limpieza y transformación de los datos\n",
    "\n"
   ]
  },
  {
   "cell_type": "markdown",
   "metadata": {},
   "source": [
    "#### Limpieza"
   ]
  },
  {
   "cell_type": "code",
   "execution_count": 39,
   "metadata": {},
   "outputs": [],
   "source": [
    "# Cambiar nombres de columnas\n",
    "dfDataDepMun.columns = ['Municipalidad▲', 'HASC', 'Departamento', 'Capital', 'Área(km²)', 'Población', 'Densidad(pers/km²)']\n",
    "\n",
    "\n",
    "# Eliminar la fila superior debido a espacios en blanco. \n",
    "dfDataDepMun = dfDataDepMun.iloc[1:]\n",
    "\n",
    "# Filtrar filas según condición\n",
    "dfDataDepMun = dfDataDepMun[dfDataDepMun['Municipalidad▲'] != 'Última actualización: 17.01.2023 - 22:58:27']\n",
    "dfDataDepMun = dfDataDepMun[dfDataDepMun['Municipalidad▲'] != 'Total']\n",
    "\n",
    "# Renombro columna para quitar caracter que no pertence al nombre\n",
    "dfDataDepMun = dfDataDepMun.rename(columns={\n",
    "    'Municipalidad▲': 'Municipalidad'\n",
    "})"
   ]
  },
  {
   "cell_type": "markdown",
   "metadata": {},
   "source": [
    "#### Transformación"
   ]
  },
  {
   "cell_type": "code",
   "execution_count": 40,
   "metadata": {},
   "outputs": [],
   "source": [
    "# Limpiar los datos de Densidad y Población, eliminando espacios y comas, y convirtiendo a tipos numéricos\n",
    "dfDataDepMun['Área(km²)'] = (\n",
    "    dfDataDepMun['Área(km²)']\n",
    "    .str.replace(' ', '')  # Eliminar espacios\n",
    "    .str.replace(',', '.')  # Reemplazar coma por punto\n",
    "    .astype(float)  # Convertir a tipo float\n",
    ")\n",
    "\n",
    "dfDataDepMun['Población'] = (\n",
    "    dfDataDepMun['Población']\n",
    "    .str.replace(' ', '')  # Eliminar espacios\n",
    "    .str.replace(',', '.')  # Reemplazar coma por punto\n",
    "    .astype(float)  # Convertir a tipo float\n",
    ")\n",
    "\n",
    "dfDataDepMun['Densidad(pers/km²)'] = (\n",
    "    dfDataDepMun['Densidad(pers/km²)']\n",
    "    .str.replace(' ', '')  # Eliminar espacios\n",
    "    .str.replace(',', '.')  # Reemplazar coma por punto\n",
    "    .astype(float)  # Convertir a tipo float\n",
    ")\n"
   ]
  },
  {
   "cell_type": "markdown",
   "metadata": {},
   "source": [
    "# 3. Análisis exploratorio de datos (eda)\n",
    "\n"
   ]
  },
  {
   "cell_type": "code",
   "execution_count": 41,
   "metadata": {},
   "outputs": [
    {
     "name": "stdout",
     "output_type": "stream",
     "text": [
      "Municipalidad            Aguilares\n",
      "HASC                         SS-AG\n",
      "Departamento          San Salvador\n",
      "Capital                  Aguilares\n",
      "Área(km²)                    337.0\n",
      "Población                  24406.0\n",
      "Densidad(pers/km²)          7238.0\n",
      "Name: 2, dtype: object\n"
     ]
    }
   ],
   "source": [
    "ultima_fila = dfDataDepMun.iloc[1]\n",
    "print(ultima_fila)"
   ]
  },
  {
   "cell_type": "code",
   "execution_count": 42,
   "metadata": {},
   "outputs": [
    {
     "name": "stdout",
     "output_type": "stream",
     "text": [
      "Municipalidad            Zaragoza\n",
      "HASC                        LI-ZA\n",
      "Departamento          La Libertad\n",
      "Capital                  Zaragoza\n",
      "Área(km²)                   227.0\n",
      "Población                 37086.0\n",
      "Densidad(pers/km²)         1633.0\n",
      "Name: 261, dtype: object\n"
     ]
    }
   ],
   "source": [
    "#Agrego la validacion para que cuadre con la tabla del conjunto de datos\n",
    "ultima_fila = dfDataDepMun.iloc[-1]\n",
    "print(ultima_fila)"
   ]
  },
  {
   "cell_type": "code",
   "execution_count": 43,
   "metadata": {},
   "outputs": [
    {
     "data": {
      "text/html": [
       "<div>\n",
       "<style scoped>\n",
       "    .dataframe tbody tr th:only-of-type {\n",
       "        vertical-align: middle;\n",
       "    }\n",
       "\n",
       "    .dataframe tbody tr th {\n",
       "        vertical-align: top;\n",
       "    }\n",
       "\n",
       "    .dataframe thead th {\n",
       "        text-align: right;\n",
       "    }\n",
       "</style>\n",
       "<table border=\"1\" class=\"dataframe\">\n",
       "  <thead>\n",
       "    <tr style=\"text-align: right;\">\n",
       "      <th></th>\n",
       "      <th>Municipalidad</th>\n",
       "      <th>HASC</th>\n",
       "      <th>Departamento</th>\n",
       "      <th>Capital</th>\n",
       "      <th>Área(km²)</th>\n",
       "      <th>Población</th>\n",
       "      <th>Densidad(pers/km²)</th>\n",
       "    </tr>\n",
       "  </thead>\n",
       "  <tbody>\n",
       "    <tr>\n",
       "      <th>1</th>\n",
       "      <td>Agua Caliente</td>\n",
       "      <td>CH-AC</td>\n",
       "      <td>Chalatenango</td>\n",
       "      <td>Agua Caliente</td>\n",
       "      <td>1957.0</td>\n",
       "      <td>8726.0</td>\n",
       "      <td>446.0</td>\n",
       "    </tr>\n",
       "    <tr>\n",
       "      <th>2</th>\n",
       "      <td>Aguilares</td>\n",
       "      <td>SS-AG</td>\n",
       "      <td>San Salvador</td>\n",
       "      <td>Aguilares</td>\n",
       "      <td>337.0</td>\n",
       "      <td>24406.0</td>\n",
       "      <td>7238.0</td>\n",
       "    </tr>\n",
       "  </tbody>\n",
       "</table>\n",
       "</div>"
      ],
      "text/plain": [
       "   Municipalidad   HASC  Departamento        Capital  Área(km²)  Población  \\\n",
       "1  Agua Caliente  CH-AC  Chalatenango  Agua Caliente     1957.0     8726.0   \n",
       "2      Aguilares  SS-AG  San Salvador      Aguilares      337.0    24406.0   \n",
       "\n",
       "   Densidad(pers/km²)  \n",
       "1               446.0  \n",
       "2              7238.0  "
      ]
     },
     "execution_count": 43,
     "metadata": {},
     "output_type": "execute_result"
    }
   ],
   "source": [
    "# Mostrar el DataFrame resultante con las transformacianes \n",
    "dfDataDepMun.head(2)\n"
   ]
  },
  {
   "cell_type": "code",
   "execution_count": 44,
   "metadata": {},
   "outputs": [
    {
     "name": "stdout",
     "output_type": "stream",
     "text": [
      "Index(['Municipalidad', 'HASC', 'Departamento', 'Capital', 'Área(km²)',\n",
      "       'Población', 'Densidad(pers/km²)'],\n",
      "      dtype='object')\n"
     ]
    }
   ],
   "source": [
    "print(dfDataDepMun.columns)"
   ]
  },
  {
   "cell_type": "markdown",
   "metadata": {},
   "source": [
    "# 4. Visualización de resultados\n",
    "\n"
   ]
  },
  {
   "cell_type": "code",
   "execution_count": 45,
   "metadata": {},
   "outputs": [
    {
     "data": {
      "text/html": [
       "\n",
       "<style>\n",
       "    .card {\n",
       "        border-radius: 10px; \n",
       "        padding: 20px; \n",
       "        width: 300px; \n",
       "        background-color: #f8f9fa; \n",
       "        box-shadow: 0 4px 16px rgba(0, 0, 0, 0.2);\n",
       "        transition: transform 0.3s, box-shadow 0.3s;\n",
       "        text-align: center;\n",
       "        margin: 10px; /* Espaciado entre tarjetas */\n",
       "    }\n",
       "    .card:hover {\n",
       "        transform: scale(1.05);\n",
       "        box-shadow: 0 8px 24px rgba(0, 0, 0, 0.3);\n",
       "    }\n",
       "    h4 {\n",
       "        margin: 10px 0;\n",
       "    }\n",
       "    p {\n",
       "        font-size: 1.5em; \n",
       "        margin: 0; \n",
       "        color: black;\n",
       "    }\n",
       "</style>\n",
       "\n",
       "<div style=\"display: flex; justify-content: center; margin-top: 20px;\">\n",
       "    <div class=\"card\" style=\"border: 1px solid #00b894;\">\n",
       "        <h4 style=\"color: #00b894;\">🌍 Total de la Población</h4>\n",
       "        <p>6733916.00</p>\n",
       "    </div>\n",
       "    <div class=\"card\" style=\"border: 1px solid #00cec9;\">\n",
       "        <h4 style=\"color: #00cec9;\">🔍 Media de la Población</h4>\n",
       "        <p>25800.44</p>\n",
       "    </div>\n",
       "    <div class=\"card\" style=\"border: 1px solid #0984e3;\">\n",
       "        <h4 style=\"color: #0984e3;\">🔍 Mediana de la Población</h4>\n",
       "        <p>11583.00</p>\n",
       "    </div>\n",
       "    <div class=\"card\" style=\"border: 1px solid #6c5ce7;\">\n",
       "        <h4 style=\"color: #6c5ce7;\">🔍 Desviación Estándar de la Población</h4>\n",
       "        <p>42387.24</p>\n",
       "    </div>\n",
       "</div>\n"
      ],
      "text/plain": [
       "<IPython.core.display.HTML object>"
      ]
     },
     "metadata": {},
     "output_type": "display_data"
    }
   ],
   "source": [
    "from IPython.display import display, HTML \n",
    "\n",
    "# Cálculo de estadísticas solo para la población\n",
    "poblacion_valor = dfDataDepMun['Población']\n",
    "\n",
    "# Total de la población \n",
    "total_poblacion = poblacion_valor.sum()\n",
    "# Medias\n",
    "media_poblacion = poblacion_valor.mean()\n",
    "# Medianas\n",
    "mediana_poblacion = poblacion_valor.median()\n",
    "# Desviaciones estándar\n",
    "desviacion_std_poblacion = poblacion_valor.std()\n",
    "\n",
    "# Crear contenido HTML para las tarjetas\n",
    "resultado_html = f\"\"\"\n",
    "<style>\n",
    "    .card {{\n",
    "        border-radius: 10px; \n",
    "        padding: 20px; \n",
    "        width: 300px; \n",
    "        background-color: #f8f9fa; \n",
    "        box-shadow: 0 4px 16px rgba(0, 0, 0, 0.2);\n",
    "        transition: transform 0.3s, box-shadow 0.3s;\n",
    "        text-align: center;\n",
    "        margin: 10px; /* Espaciado entre tarjetas */\n",
    "    }}\n",
    "    .card:hover {{\n",
    "        transform: scale(1.05);\n",
    "        box-shadow: 0 8px 24px rgba(0, 0, 0, 0.3);\n",
    "    }}\n",
    "    h4 {{\n",
    "        margin: 10px 0;\n",
    "    }}\n",
    "    p {{\n",
    "        font-size: 1.5em; \n",
    "        margin: 0; \n",
    "        color: black;\n",
    "    }}\n",
    "</style>\n",
    "\n",
    "<div style=\"display: flex; justify-content: center; margin-top: 20px;\">\n",
    "    <div class=\"card\" style=\"border: 1px solid #00b894;\">\n",
    "        <h4 style=\"color: #00b894;\">🌍 Total de la Población</h4>\n",
    "        <p>{total_poblacion:.2f}</p>\n",
    "    </div>\n",
    "    <div class=\"card\" style=\"border: 1px solid #00cec9;\">\n",
    "        <h4 style=\"color: #00cec9;\">🔍 Media de la Población</h4>\n",
    "        <p>{media_poblacion:.2f}</p>\n",
    "    </div>\n",
    "    <div class=\"card\" style=\"border: 1px solid #0984e3;\">\n",
    "        <h4 style=\"color: #0984e3;\">🔍 Mediana de la Población</h4>\n",
    "        <p>{mediana_poblacion:.2f}</p>\n",
    "    </div>\n",
    "    <div class=\"card\" style=\"border: 1px solid #6c5ce7;\">\n",
    "        <h4 style=\"color: #6c5ce7;\">🔍 Desviación Estándar de la Población</h4>\n",
    "        <p>{desviacion_std_poblacion:.2f}</p>\n",
    "    </div>\n",
    "</div>\n",
    "\"\"\"\n",
    "\n",
    "# Mostrar las tarjetas\n",
    "display(HTML(resultado_html))\n"
   ]
  },
  {
   "cell_type": "markdown",
   "metadata": {},
   "source": [
    "#### El análisis de la población municipal de El Salvador muestra una media de 25,800 habitantes, lo que sugiere un nivel poblacional relativamente alto. Sin embargo, la mediana de 11,583 indica que la mitad de los municipios tiene menos habitantes, evidenciando que algunos municipios grandes sesgan la media. La desviación estándar de 42,387.24 refleja una gran variabilidad en los tamaños poblacionales, señalando desigualdades en el desarrollo urbano. En resumen, aunque la media indica una población alta, la mediana y la desviación estándar destacan una distribución desigual que requiere atención.\n",
    "\n",
    "\n"
   ]
  },
  {
   "cell_type": "code",
   "execution_count": 46,
   "metadata": {},
   "outputs": [],
   "source": [
    "# print(\"total_poblacion: {}\".format(total_poblacion))\n",
    "# print(\"media_poblacion: {}\".format(media_poblacion))\n",
    "# print(\"mediana_poblacion: {}\".format(mediana_poblacion))\n",
    "# print(\"desviacion_std_poblacion: {}\".format(desviacion_std_poblacion))"
   ]
  },
  {
   "cell_type": "code",
   "execution_count": 47,
   "metadata": {},
   "outputs": [
    {
     "name": "stderr",
     "output_type": "stream",
     "text": [
      "C:\\Users\\User\\AppData\\Local\\Temp\\ipykernel_10220\\4161976102.py:6: FutureWarning: \n",
      "\n",
      "Passing `palette` without assigning `hue` is deprecated and will be removed in v0.14.0. Assign the `x` variable to `hue` and set `legend=False` for the same effect.\n",
      "\n",
      "  sns.barplot(x='Departamento', y='Población', data=dfDataDepMun, palette='viridis')\n"
     ]
    },
    {
     "data": {
      "image/png": "[encoded data removed]",
      "text/plain": [
       "<Figure size 2000x600 with 1 Axes>"
      ]
     },
     "metadata": {},
     "output_type": "display_data"
    }
   ],
   "source": [
    "\n",
    "# Configuración de estilo de seaborn\n",
    "sns.set(style=\"whitegrid\")\n",
    "\n",
    "# Gráfica de Población\n",
    "plt.figure(figsize=(20, 6))\n",
    "sns.barplot(x='Departamento', y='Población', data=dfDataDepMun, palette='viridis')\n",
    "\n",
    "# Títulos y etiquetas\n",
    "plt.title('Población por Departamento')\n",
    "plt.ylabel('Población')\n",
    "plt.xlabel('Departamento')\n",
    "\n",
    "# Agregar líneas para media y mediana\n",
    "plt.axhline(media_poblacion, color='red', linestyle='--', label='Media de Población')\n",
    "plt.axhline(mediana_poblacion, color='blue', linestyle='--', label='Mediana de Población')\n",
    "\n",
    "# Añadir leyenda\n",
    "plt.legend()\n",
    "\n",
    "# Mostrar la gráfica\n",
    "plt.show()"
   ]
  }
 ],
 "metadata": {
  "kernelspec": {
   "display_name": "Python 3 (ipykernel)",
   "language": "python",
   "name": "python3"
  },
  "language_info": {
   "codemirror_mode": {
    "name": "ipython",
    "version": 3
   },
   "file_extension": ".py",
   "mimetype": "text/x-python",
   "name": "python",
   "nbconvert_exporter": "python",
   "pygments_lexer": "ipython3",
   "version": "3.12.5"
  }
 },
 "nbformat": 4,
 "nbformat_minor": 4
}
